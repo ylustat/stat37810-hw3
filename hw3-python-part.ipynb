{
 "cells": [
  {
   "cell_type": "code",
   "execution_count": 1,
   "metadata": {},
   "outputs": [],
   "source": [
    "'''\n",
    "Python part\n",
    "\n",
    "Here you will repeat many of the exercises from HW1, but in Python. \n",
    "I'd like you to do 1-10 of the \"Lecture 1 exercises\"\n",
    "\n",
    "(for #10, we can get keyboard with. my_age = int(input())\n",
    "\n",
    "And then do 1-15 of the \"Lecture 2 exercises\", creating the vectors as \"numpy.array\"s.\n",
    "\n",
    " \n",
    "\n",
    "To submit this assignment, please attach a pdf of the output from your R part. \n",
    "Then in the comments section on Canvas, in addition to your self-assessment checklist, \n",
    "paste in the URL of your Jupyter notebook for the Python part.\n",
    "'''\n",
    "# Lecture 1\n",
    "## 1\n",
    "age = 23  ## This is my age\n",
    "name = 'Yihao Lu'  ## This is my name\n",
    "pet_number = 0  ## This is the number of pets I have"
   ]
  },
  {
   "cell_type": "code",
   "execution_count": 5,
   "metadata": {},
   "outputs": [
    {
     "name": "stdout",
     "output_type": "stream",
     "text": [
      "23\n",
      "Yihao Lu\n",
      "0\n"
     ]
    }
   ],
   "source": [
    "## 3\n",
    "print(age)\n",
    "print(name)\n",
    "print(pet_number)"
   ]
  },
  {
   "cell_type": "code",
   "execution_count": 13,
   "metadata": {},
   "outputs": [
    {
     "name": "stdout",
     "output_type": "stream",
     "text": [
      "My age is 25 now.\n",
      "I don't have any pet. So the number of pet I have is 0\n"
     ]
    }
   ],
   "source": [
    "## 4\n",
    "print(\"My age is\", age, \"now.\")\n",
    "print(\"I don't have any pet. So the number of pet I have is\", pet_number)"
   ]
  },
  {
   "cell_type": "code",
   "execution_count": 14,
   "metadata": {},
   "outputs": [
    {
     "name": "stdout",
     "output_type": "stream",
     "text": [
      "Congratulations! Now you are 26 years old.\n"
     ]
    }
   ],
   "source": [
    "## 5\n",
    "age = age + 1\n",
    "print(\"Congratulations! Now you are\", age, \"years old.\")"
   ]
  },
  {
   "cell_type": "code",
   "execution_count": 16,
   "metadata": {},
   "outputs": [
    {
     "name": "stdout",
     "output_type": "stream",
     "text": [
      "You have been able to drink for 5 years\n"
     ]
    }
   ],
   "source": [
    "## 6\n",
    "if age >= 21:\n",
    "    print(\"You have been able to drink for\",age-21,\"years\")\n",
    "else:\n",
    "    print(\"You can’t drink. You will need to wait\",21-age,\"years\")"
   ]
  },
  {
   "cell_type": "code",
   "execution_count": 21,
   "metadata": {},
   "outputs": [
    {
     "name": "stdout",
     "output_type": "stream",
     "text": [
      "A 1 year old can’t drink and must wait 20 more years\n",
      "A 2 year old can’t drink and must wait 19 more years\n",
      "A 3 year old can’t drink and must wait 18 more years\n",
      "A 4 year old can’t drink and must wait 17 more years\n",
      "A 5 year old can’t drink and must wait 16 more years\n",
      "A 6 year old can’t drink and must wait 15 more years\n",
      "A 7 year old can’t drink and must wait 14 more years\n",
      "A 8 year old can’t drink and must wait 13 more years\n",
      "A 9 year old can’t drink and must wait 12 more years\n",
      "A 10 year old can’t drink and must wait 11 more years\n",
      "A 11 year old can’t drink and must wait 10 more years\n",
      "A 12 year old can’t drink and must wait 9 more years\n",
      "A 13 year old can’t drink and must wait 8 more years\n",
      "A 14 year old can’t drink and must wait 7 more years\n",
      "A 15 year old can’t drink and must wait 6 more years\n",
      "A 16 year old can’t drink and must wait 5 more years\n",
      "A 17 year old can’t drink and must wait 4 more years\n",
      "A 18 year old can’t drink and must wait 3 more years\n",
      "A 19 year old can’t drink and must wait 2 more years\n",
      "A 20 year old can’t drink and must wait 1 more years\n",
      "A 21 has been able to drink for 0 years\n",
      "A 22 has been able to drink for 1 years\n",
      "A 23 has been able to drink for 2 years\n",
      "A 24 has been able to drink for 3 years\n",
      "A 25 has been able to drink for 4 years\n",
      "A 26 has been able to drink for 5 years\n",
      "A 27 has been able to drink for 6 years\n",
      "A 28 has been able to drink for 7 years\n",
      "A 29 has been able to drink for 8 years\n",
      "A 30 has been able to drink for 9 years\n"
     ]
    }
   ],
   "source": [
    "## 7\n",
    "for age in range(1,31):\n",
    "    if age >= 21:\n",
    "        print(\"A\",age,\"has been able to drink for\",age-21,\"years\")\n",
    "    else:\n",
    "        print(\"A\",age,\"year old can’t drink and must wait\",21-age,\"more years\")"
   ]
  },
  {
   "cell_type": "code",
   "execution_count": 22,
   "metadata": {},
   "outputs": [
    {
     "name": "stdout",
     "output_type": "stream",
     "text": [
      "A 1 year old can’t drink and must wait 20 more years\n",
      "A 2 year old can’t drink and must wait 19 more years\n",
      "A 3 year old can’t drink and must wait 18 more years\n",
      "A 4 year old can’t drink and must wait 17 more years\n",
      "A 5 year old can’t drink and must wait 16 more years\n",
      "A 6 year old can’t drink and must wait 15 more years\n",
      "A 7 year old can’t drink and must wait 14 more years\n",
      "A 8 year old can’t drink and must wait 13 more years\n",
      "A 9 year old can’t drink and must wait 12 more years\n",
      "A 10 year old can’t drink and must wait 11 more years\n"
     ]
    }
   ],
   "source": [
    "## 8\n",
    "for age in range(1,31):\n",
    "    if age >= 21:\n",
    "        print(\"A\",age,\"has been able to drink for\",age-21,\"years\")\n",
    "    else:\n",
    "        print(\"A\",age,\"year old can’t drink and must wait\",21-age,\"more years\")\n",
    "        if age == 10:\n",
    "            break"
   ]
  },
  {
   "cell_type": "code",
   "execution_count": 23,
   "metadata": {},
   "outputs": [
    {
     "name": "stdout",
     "output_type": "stream",
     "text": [
      "A 1 year old can’t drink and must wait 20 more years\n",
      "A 2 year old can’t drink and must wait 19 more years\n",
      "A 3 year old can’t drink and must wait 18 more years\n",
      "A 4 year old can’t drink and must wait 17 more years\n",
      "A 5 year old can’t drink and must wait 16 more years\n",
      "A 6 year old can’t drink and must wait 15 more years\n",
      "A 7 year old can’t drink and must wait 14 more years\n",
      "A 8 year old can’t drink and must wait 13 more years\n",
      "A 9 year old can’t drink and must wait 12 more years\n",
      "A 10 year old can’t drink and must wait 11 more years\n",
      "A 11 year old can’t drink and must wait 10 more years\n",
      "A 12 year old can’t drink and must wait 9 more years\n",
      "A 13 year old can’t drink and must wait 8 more years\n",
      "A 14 year old can’t drink and must wait 7 more years\n",
      "A 15 year old can’t drink and must wait 6 more years\n",
      "A 16 year old can’t drink and must wait 5 more years\n",
      "A 17 year old can’t drink and must wait 4 more years\n",
      "A 18 year old can’t drink and must wait 3 more years\n",
      "A 19 year old can’t drink and must wait 2 more years\n",
      "A 20 year old can’t drink and must wait 1 more years\n",
      "A 21 has been able to drink for 0 years\n",
      "A 22 has been able to drink for 1 years\n",
      "A 23 has been able to drink for 2 years\n",
      "A 24 has been able to drink for 3 years\n",
      "A 25 has been able to drink for 4 years\n",
      "A 26 has been able to drink for 5 years\n",
      "A 27 has been able to drink for 6 years\n",
      "A 28 has been able to drink for 7 years\n",
      "A 29 has been able to drink for 8 years\n",
      "A 30 has been able to drink for 9 years\n"
     ]
    }
   ],
   "source": [
    "## 9\n",
    "age = 1\n",
    "while age <=30:\n",
    "    if age >= 21:\n",
    "        print(\"A\",age,\"has been able to drink for\",age-21,\"years\")\n",
    "    else:\n",
    "        print(\"A\",age,\"year old can’t drink and must wait\",21-age,\"more years\")\n",
    "    age = age + 1"
   ]
  },
  {
   "cell_type": "code",
   "execution_count": 26,
   "metadata": {},
   "outputs": [
    {
     "name": "stdout",
     "output_type": "stream",
     "text": [
      "10\n",
      "You can’t drink. You will need to wait 11 years\n"
     ]
    }
   ],
   "source": [
    "## 10\n",
    "age = int(input())\n",
    "if age >= 21:\n",
    "    print(\"You have been able to drink for\",age-21,\"years\")\n",
    "else:\n",
    "    print(\"You can’t drink. You will need to wait\",21-age,\"years\")"
   ]
  },
  {
   "cell_type": "code",
   "execution_count": 56,
   "metadata": {},
   "outputs": [],
   "source": [
    "# Lecture 2\n",
    "import numpy as np\n",
    "## 1\n",
    "age = np.array([50,50,27,23])\n",
    "name = np.array([\"LYW\",\"WHH\",\"WHX\",\"LYH\"])\n",
    "number = np.array(range(1,101))"
   ]
  },
  {
   "cell_type": "code",
   "execution_count": 57,
   "metadata": {},
   "outputs": [
    {
     "name": "stdout",
     "output_type": "stream",
     "text": [
      "[50 50 27 23]\n",
      "['LYW' 'WHH' 'WHX' 'LYH']\n"
     ]
    }
   ],
   "source": [
    "## 2\n",
    "print(age)\n",
    "print(name)"
   ]
  },
  {
   "cell_type": "code",
   "execution_count": 58,
   "metadata": {},
   "outputs": [
    {
     "name": "stdout",
     "output_type": "stream",
     "text": [
      "50\n",
      "LYW\n"
     ]
    }
   ],
   "source": [
    "## 3\n",
    "print(age[0])\n",
    "print(name[0])"
   ]
  },
  {
   "cell_type": "code",
   "execution_count": 59,
   "metadata": {},
   "outputs": [
    {
     "name": "stdout",
     "output_type": "stream",
     "text": [
      "4\n"
     ]
    }
   ],
   "source": [
    "## 4\n",
    "print(len(name))"
   ]
  },
  {
   "cell_type": "code",
   "execution_count": 60,
   "metadata": {},
   "outputs": [
    {
     "name": "stdout",
     "output_type": "stream",
     "text": [
      "LYH\n"
     ]
    }
   ],
   "source": [
    "## 5\n",
    "print(name[len(name)-1])"
   ]
  },
  {
   "cell_type": "code",
   "execution_count": 62,
   "metadata": {},
   "outputs": [
    {
     "name": "stdout",
     "output_type": "stream",
     "text": [
      "['WHH' 'WHX' 'LYH']\n",
      "['WHH' 'WHX' 'LYH']\n",
      "['Bob' 'Bob' 'WHX' 'Bob']\n"
     ]
    }
   ],
   "source": [
    "## 6\n",
    "print(name[1:])\n",
    "### a\n",
    "print(name[1:4])\n",
    "### b\n",
    "name[0:2] = \"Bob\"\n",
    "name[3] = \"Bob\"\n",
    "print(name)"
   ]
  },
  {
   "cell_type": "code",
   "execution_count": 68,
   "metadata": {},
   "outputs": [
    {
     "name": "stdout",
     "output_type": "stream",
     "text": [
      "['Bob'] ['WHX' 'Bob']\n"
     ]
    }
   ],
   "source": [
    "## 7\n",
    "print(name[:1],name[2:])"
   ]
  },
  {
   "cell_type": "code",
   "execution_count": 71,
   "metadata": {},
   "outputs": [],
   "source": [
    "## 8\n",
    "age = np.append(age, 0)\n",
    "name = np.append(name, \"baby\")"
   ]
  },
  {
   "cell_type": "code",
   "execution_count": 76,
   "metadata": {},
   "outputs": [
    {
     "name": "stdout",
     "output_type": "stream",
     "text": [
      "25.0\n",
      "25.0\n"
     ]
    }
   ],
   "source": [
    "## 9\n",
    "print(np.mean(age))\n",
    "print(np.median(age))"
   ]
  },
  {
   "cell_type": "code",
   "execution_count": 78,
   "metadata": {},
   "outputs": [],
   "source": [
    "## 10\n",
    "double_family = np.append(name, name)"
   ]
  },
  {
   "cell_type": "code",
   "execution_count": 84,
   "metadata": {},
   "outputs": [
    {
     "name": "stdout",
     "output_type": "stream",
     "text": [
      "[False False False False  True  True]\n"
     ]
    }
   ],
   "source": [
    "## 11\n",
    "print(age == 0)"
   ]
  },
  {
   "cell_type": "code",
   "execution_count": 85,
   "metadata": {},
   "outputs": [
    {
     "data": {
      "text/plain": [
       "True"
      ]
     },
     "execution_count": 85,
     "metadata": {},
     "output_type": "execute_result"
    }
   ],
   "source": [
    "## 12\n",
    "np.any(age == 0)"
   ]
  },
  {
   "cell_type": "code",
   "execution_count": 86,
   "metadata": {},
   "outputs": [
    {
     "data": {
      "text/plain": [
       "2"
      ]
     },
     "execution_count": 86,
     "metadata": {},
     "output_type": "execute_result"
    }
   ],
   "source": [
    "## 13\n",
    "np.sum(age == 0)"
   ]
  },
  {
   "cell_type": "code",
   "execution_count": 89,
   "metadata": {},
   "outputs": [
    {
     "name": "stdout",
     "output_type": "stream",
     "text": [
      "[10 20 30 40 50 60]\n"
     ]
    }
   ],
   "source": [
    "## 14\n",
    "n = len(age)\n",
    "vec = 10*np.array(range(1,n+1))\n",
    "print(vec)"
   ]
  },
  {
   "cell_type": "code",
   "execution_count": 91,
   "metadata": {},
   "outputs": [
    {
     "name": "stdout",
     "output_type": "stream",
     "text": [
      "[False False False False False False]\n"
     ]
    }
   ],
   "source": [
    "## 15\n",
    "print(age == vec)"
   ]
  }
 ],
 "metadata": {
  "kernelspec": {
   "display_name": "Python 3",
   "language": "python",
   "name": "python3"
  },
  "language_info": {
   "codemirror_mode": {
    "name": "ipython",
    "version": 3
   },
   "file_extension": ".py",
   "mimetype": "text/x-python",
   "name": "python",
   "nbconvert_exporter": "python",
   "pygments_lexer": "ipython3",
   "version": "3.7.0"
  }
 },
 "nbformat": 4,
 "nbformat_minor": 2
}
